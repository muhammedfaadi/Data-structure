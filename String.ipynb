{
 "cells": [
  {
   "cell_type": "code",
   "execution_count": 10,
   "id": "32474ed3-3113-414d-ad82-1723262faab2",
   "metadata": {},
   "outputs": [],
   "source": [
    "#String with single quotes\n",
    "s1='Hello'"
   ]
  },
  {
   "cell_type": "code",
   "execution_count": 9,
   "id": "723be3e7-d43e-4377-bb81-767eed1ffa28",
   "metadata": {},
   "outputs": [
    {
     "data": {
      "text/plain": [
       "str"
      ]
     },
     "execution_count": 9,
     "metadata": {},
     "output_type": "execute_result"
    }
   ],
   "source": [
    "#Checking the type\n",
    "type(s1)"
   ]
  },
  {
   "cell_type": "code",
   "execution_count": 8,
   "id": "8c8ed848-b29e-4dc8-8ed6-7db10605652b",
   "metadata": {},
   "outputs": [
    {
     "data": {
      "text/plain": [
       "str"
      ]
     },
     "execution_count": 8,
     "metadata": {},
     "output_type": "execute_result"
    }
   ],
   "source": [
    "#String with double quotes\n",
    "s2=\"World\"\n",
    "type(s2)"
   ]
  },
  {
   "cell_type": "code",
   "execution_count": 7,
   "id": "74342bf5-5cbe-4ea7-8404-77fa33d8e27f",
   "metadata": {},
   "outputs": [
    {
     "data": {
      "text/plain": [
       "str"
      ]
     },
     "execution_count": 7,
     "metadata": {},
     "output_type": "execute_result"
    }
   ],
   "source": [
    "#String with triple quotes (multi-line string)\n",
    "s3='''Python is a\n",
    "programming language'''\n",
    "type(s3)"
   ]
  },
  {
   "cell_type": "code",
   "execution_count": 13,
   "id": "d32594b8-0eeb-45e5-b63c-131c8615ab40",
   "metadata": {},
   "outputs": [
    {
     "data": {
      "text/plain": [
       "'HelloWorld'"
      ]
     },
     "execution_count": 13,
     "metadata": {},
     "output_type": "execute_result"
    }
   ],
   "source": [
    "#Concantination\n",
    "s3=s1+s2\n",
    "s3"
   ]
  },
  {
   "cell_type": "code",
   "execution_count": 18,
   "id": "5a317da7-6954-420b-b38b-8d9435848c99",
   "metadata": {},
   "outputs": [
    {
     "data": {
      "text/plain": [
       "'Hello World'"
      ]
     },
     "execution_count": 18,
     "metadata": {},
     "output_type": "execute_result"
    }
   ],
   "source": [
    "#Adding space in between s1 and s2\n",
    "s5=s1+' '+s2\n",
    "s5"
   ]
  },
  {
   "cell_type": "code",
   "execution_count": 19,
   "id": "5cfdd42c-5b7c-4fa1-a76c-67e2034acdd0",
   "metadata": {},
   "outputs": [
    {
     "data": {
      "text/plain": [
       "11"
      ]
     },
     "execution_count": 19,
     "metadata": {},
     "output_type": "execute_result"
    }
   ],
   "source": [
    "#Determining the length of s5\n",
    "len(s5)"
   ]
  },
  {
   "cell_type": "code",
   "execution_count": 20,
   "id": "c4fbb008-bd89-41af-ba14-a6f55dc039af",
   "metadata": {},
   "outputs": [
    {
     "data": {
      "text/plain": [
       "'H'"
      ]
     },
     "execution_count": 20,
     "metadata": {},
     "output_type": "execute_result"
    }
   ],
   "source": [
    "#Accessing the characters via Indexing\n",
    "s5[0]"
   ]
  },
  {
   "cell_type": "code",
   "execution_count": 21,
   "id": "3c2a9068-32c4-47b9-a61d-c41d4e53a9dd",
   "metadata": {},
   "outputs": [
    {
     "data": {
      "text/plain": [
       "'d'"
      ]
     },
     "execution_count": 21,
     "metadata": {},
     "output_type": "execute_result"
    }
   ],
   "source": [
    "s5[10]"
   ]
  },
  {
   "cell_type": "code",
   "execution_count": 23,
   "id": "a405e3f4-009a-41a9-b395-42c04c767d9c",
   "metadata": {},
   "outputs": [
    {
     "data": {
      "text/plain": [
       "'llo Wo'"
      ]
     },
     "execution_count": 23,
     "metadata": {},
     "output_type": "execute_result"
    }
   ],
   "source": [
    "#Slicing a String\n",
    "s5[2:8]"
   ]
  },
  {
   "cell_type": "code",
   "execution_count": 24,
   "id": "fd458032-496e-49ab-bcf2-1ca6e60acc02",
   "metadata": {},
   "outputs": [
    {
     "data": {
      "text/plain": [
       "'Hello WorldHello WorldHello World'"
      ]
     },
     "execution_count": 24,
     "metadata": {},
     "output_type": "execute_result"
    }
   ],
   "source": [
    "#Duplication of String\n",
    "s5*3"
   ]
  },
  {
   "cell_type": "code",
   "execution_count": 25,
   "id": "ab63f60f-0b9b-4ce6-aa28-b169cf8daca6",
   "metadata": {},
   "outputs": [
    {
     "data": {
      "text/plain": [
       "True"
      ]
     },
     "execution_count": 25,
     "metadata": {},
     "output_type": "execute_result"
    }
   ],
   "source": [
    "#Checking substring in mainstring\n",
    "'World' in s5"
   ]
  },
  {
   "cell_type": "code",
   "execution_count": 26,
   "id": "020ed96b-6d0b-4c6c-8684-49ceb6c882e0",
   "metadata": {},
   "outputs": [
    {
     "data": {
      "text/plain": [
       "False"
      ]
     },
     "execution_count": 26,
     "metadata": {},
     "output_type": "execute_result"
    }
   ],
   "source": [
    "'Hanith' in s5"
   ]
  },
  {
   "cell_type": "code",
   "execution_count": 27,
   "id": "4b562ecf-91aa-44b3-ac85-77711e530f2d",
   "metadata": {},
   "outputs": [
    {
     "data": {
      "text/plain": [
       "False"
      ]
     },
     "execution_count": 27,
     "metadata": {},
     "output_type": "execute_result"
    }
   ],
   "source": [
    "'World' not in s5"
   ]
  },
  {
   "cell_type": "code",
   "execution_count": 30,
   "id": "e35c7ed2-3868-4339-8b35-687bf9b3cbfb",
   "metadata": {},
   "outputs": [
    {
     "data": {
      "text/plain": [
       "'HELLO WORLD'"
      ]
     },
     "execution_count": 30,
     "metadata": {},
     "output_type": "execute_result"
    }
   ],
   "source": [
    "#Changing to UPPERCASE\n",
    "s5.upper()"
   ]
  },
  {
   "cell_type": "code",
   "execution_count": 29,
   "id": "1f4aeb00-f020-47b7-942d-2e980b2eb039",
   "metadata": {},
   "outputs": [
    {
     "data": {
      "text/plain": [
       "'hello world'"
      ]
     },
     "execution_count": 29,
     "metadata": {},
     "output_type": "execute_result"
    }
   ],
   "source": [
    "#Changing to LOWERCASE\n",
    "s5.lower()"
   ]
  },
  {
   "cell_type": "code",
   "execution_count": 32,
   "id": "1a43b107-bde6-4aac-8792-9cc8d3314b63",
   "metadata": {},
   "outputs": [
    {
     "data": {
      "text/plain": [
       "'Hello world'"
      ]
     },
     "execution_count": 32,
     "metadata": {},
     "output_type": "execute_result"
    }
   ],
   "source": [
    "#Changing to UPPERCASE using the function capitalize\n",
    "s5.capitalize()"
   ]
  },
  {
   "cell_type": "code",
   "execution_count": 34,
   "id": "08c1327b-6c0e-4a1a-9a78-8289193b03e1",
   "metadata": {},
   "outputs": [
    {
     "data": {
      "text/plain": [
       "'Hello World'"
      ]
     },
     "execution_count": 34,
     "metadata": {},
     "output_type": "execute_result"
    }
   ],
   "source": [
    "#Changing the case using the function title\n",
    "s5.title()"
   ]
  },
  {
   "cell_type": "code",
   "execution_count": 36,
   "id": "34f0301f-dbf9-4694-9a2a-83486d911e98",
   "metadata": {},
   "outputs": [
    {
     "data": {
      "text/plain": [
       "'Hello Python'"
      ]
     },
     "execution_count": 36,
     "metadata": {},
     "output_type": "execute_result"
    }
   ],
   "source": [
    "#Replacing a word using replace function\n",
    "s5.replace('World','Python')"
   ]
  },
  {
   "cell_type": "code",
   "execution_count": null,
   "id": "b3ae3ef4-cc27-4cb4-be15-9c5cff6f9a43",
   "metadata": {},
   "outputs": [],
   "source": []
  }
 ],
 "metadata": {
  "kernelspec": {
   "display_name": "Python 3 (ipykernel)",
   "language": "python",
   "name": "python3"
  },
  "language_info": {
   "codemirror_mode": {
    "name": "ipython",
    "version": 3
   },
   "file_extension": ".py",
   "mimetype": "text/x-python",
   "name": "python",
   "nbconvert_exporter": "python",
   "pygments_lexer": "ipython3",
   "version": "3.13.5"
  }
 },
 "nbformat": 4,
 "nbformat_minor": 5
}
