{
 "cells": [
  {
   "cell_type": "raw",
   "id": "8e699cf9-bc96-4950-9d8c-ba704003400d",
   "metadata": {},
   "source": [
    "DICTIONARY"
   ]
  },
  {
   "cell_type": "code",
   "execution_count": 3,
   "id": "ce72891c-795b-4537-9ae1-901748cc7def",
   "metadata": {},
   "outputs": [
    {
     "data": {
      "text/plain": [
       "dict"
      ]
     },
     "execution_count": 3,
     "metadata": {},
     "output_type": "execute_result"
    }
   ],
   "source": [
    "#Creating an empty dict and checking the type\n",
    "d1={ }\n",
    "type(d1)"
   ]
  },
  {
   "cell_type": "code",
   "execution_count": 10,
   "id": "6effcdbb-ae35-44ee-bf90-b72b79b87901",
   "metadata": {},
   "outputs": [
    {
     "data": {
      "text/plain": [
       "({'Name': 'Hanith', 'Age': 18, 'City': 'TRV'}, dict)"
      ]
     },
     "execution_count": 10,
     "metadata": {},
     "output_type": "execute_result"
    }
   ],
   "source": [
    "d2={'Name':'Hanith','Age':18,'City':'TRV'}\n",
    "d2,type(d2)"
   ]
  },
  {
   "cell_type": "code",
   "execution_count": 14,
   "id": "b29bc664-20c5-463e-badf-6af4c48e3b1e",
   "metadata": {},
   "outputs": [
    {
     "data": {
      "text/plain": [
       "{'Name': 'Hanith', 'Age': 18, 'City': 'TRV', 'ph no': '9876543210'}"
      ]
     },
     "execution_count": 14,
     "metadata": {},
     "output_type": "execute_result"
    }
   ],
   "source": [
    "#Adding quotes if number exceeds 9 digits(BIGINT)\n",
    "person={'Name':'Hanith','Age':18,'City':'TRV','ph no':'9876543210'}\n",
    "person"
   ]
  },
  {
   "cell_type": "code",
   "execution_count": 16,
   "id": "2ddd4f6e-424e-4425-bfcb-37a39a984dab",
   "metadata": {},
   "outputs": [],
   "source": [
    "#Added a new key value pair\n",
    "person['Salary']=101010"
   ]
  },
  {
   "cell_type": "code",
   "execution_count": 17,
   "id": "e3e5bccb-dc2f-4bb1-87ef-b46c41c670f5",
   "metadata": {},
   "outputs": [
    {
     "data": {
      "text/plain": [
       "{'Name': 'Hanith',\n",
       " 'Age': 18,\n",
       " 'City': 'TRV',\n",
       " 'ph no': '9876543210',\n",
       " 'Salary': 101010}"
      ]
     },
     "execution_count": 17,
     "metadata": {},
     "output_type": "execute_result"
    }
   ],
   "source": [
    "person\n"
   ]
  },
  {
   "cell_type": "code",
   "execution_count": 31,
   "id": "eeb357e0-64c4-43cd-9c48-236293ad1367",
   "metadata": {},
   "outputs": [],
   "source": [
    "#Keys are unique\n",
    "person['Name']='Anu'"
   ]
  },
  {
   "cell_type": "code",
   "execution_count": 19,
   "id": "ec5eac2a-ff15-45a4-9827-41d9ec1b7ffe",
   "metadata": {},
   "outputs": [
    {
     "data": {
      "text/plain": [
       "{'Name': 'Anu',\n",
       " 'Age': 18,\n",
       " 'City': 'TRV',\n",
       " 'ph no': '9876543210',\n",
       " 'Salary': 101010}"
      ]
     },
     "execution_count": 19,
     "metadata": {},
     "output_type": "execute_result"
    }
   ],
   "source": [
    "person"
   ]
  },
  {
   "cell_type": "code",
   "execution_count": 26,
   "id": "fc7f5bee-b459-4d97-bb5a-dda70eea092e",
   "metadata": {},
   "outputs": [],
   "source": [
    "person['name']='Hanith'"
   ]
  },
  {
   "cell_type": "code",
   "execution_count": 22,
   "id": "03087bc5-580c-4af3-8188-2ac92f849d2e",
   "metadata": {},
   "outputs": [
    {
     "data": {
      "text/plain": [
       "{'Name': 'Anu',\n",
       " 'Age': 18,\n",
       " 'City': 'TRV',\n",
       " 'ph no': '9876543210',\n",
       " 'Salary': 101010,\n",
       " 'name': 'Hanith'}"
      ]
     },
     "execution_count": 22,
     "metadata": {},
     "output_type": "execute_result"
    }
   ],
   "source": [
    "person"
   ]
  },
  {
   "cell_type": "code",
   "execution_count": 27,
   "id": "eb239955-ae6f-4842-8379-542856173511",
   "metadata": {},
   "outputs": [],
   "source": [
    "#Deletion of an element\n",
    "del person['name']"
   ]
  },
  {
   "cell_type": "code",
   "execution_count": 28,
   "id": "ca827b4a-b0bf-438c-93c8-fa0eb28bbc60",
   "metadata": {},
   "outputs": [
    {
     "data": {
      "text/plain": [
       "{'Name': 'Anu',\n",
       " 'Age': 18,\n",
       " 'City': 'TRV',\n",
       " 'ph no': '9876543210',\n",
       " 'Salary': 101010}"
      ]
     },
     "execution_count": 28,
     "metadata": {},
     "output_type": "execute_result"
    }
   ],
   "source": [
    "person"
   ]
  },
  {
   "cell_type": "code",
   "execution_count": 32,
   "id": "0ff90753-b109-41ba-9480-e34acff7ea1d",
   "metadata": {},
   "outputs": [
    {
     "data": {
      "text/plain": [
       "'Anu'"
      ]
     },
     "execution_count": 32,
     "metadata": {},
     "output_type": "execute_result"
    }
   ],
   "source": [
    "#Accessing a value via key\n",
    "person['Name']"
   ]
  },
  {
   "cell_type": "code",
   "execution_count": 33,
   "id": "9c1ce693-5c37-4c3f-8913-2f4b45ef99cd",
   "metadata": {},
   "outputs": [
    {
     "data": {
      "text/plain": [
       "5"
      ]
     },
     "execution_count": 33,
     "metadata": {},
     "output_type": "execute_result"
    }
   ],
   "source": [
    "#Length of a dictionary\n",
    "len(person)"
   ]
  },
  {
   "cell_type": "code",
   "execution_count": 35,
   "id": "cbab78de-1317-4b3b-a293-011d58aa5985",
   "metadata": {},
   "outputs": [
    {
     "data": {
      "text/plain": [
       "dict_keys(['Name', 'Age', 'City', 'ph no', 'Salary'])"
      ]
     },
     "execution_count": 35,
     "metadata": {},
     "output_type": "execute_result"
    }
   ],
   "source": [
    "#Accessing keys\n",
    "person.keys()"
   ]
  },
  {
   "cell_type": "code",
   "execution_count": 36,
   "id": "0dc2f61c-91d1-4d3e-91e4-f84646356853",
   "metadata": {},
   "outputs": [
    {
     "data": {
      "text/plain": [
       "dict_values(['Anu', 18, 'TRV', '9876543210', 101010])"
      ]
     },
     "execution_count": 36,
     "metadata": {},
     "output_type": "execute_result"
    }
   ],
   "source": [
    "#Accessing values\n",
    "person.values()"
   ]
  },
  {
   "cell_type": "code",
   "execution_count": 37,
   "id": "1919230e-32b4-4b25-8b34-a7aca6d7fa5c",
   "metadata": {},
   "outputs": [
    {
     "data": {
      "text/plain": [
       "dict_items([('Name', 'Anu'), ('Age', 18), ('City', 'TRV'), ('ph no', '9876543210'), ('Salary', 101010)])"
      ]
     },
     "execution_count": 37,
     "metadata": {},
     "output_type": "execute_result"
    }
   ],
   "source": [
    "#To dislpay all the items\n",
    "person.items()"
   ]
  },
  {
   "cell_type": "raw",
   "id": "7ebc153a-9a1c-4120-b926-dde883635fae",
   "metadata": {},
   "source": [
    "SET"
   ]
  },
  {
   "cell_type": "code",
   "execution_count": 41,
   "id": "52fc875d-7873-4dad-b8f1-0d1c56cc52f7",
   "metadata": {},
   "outputs": [
    {
     "data": {
      "text/plain": [
       "{1, 2, 3, 4, 5, 6}"
      ]
     },
     "execution_count": 41,
     "metadata": {},
     "output_type": "execute_result"
    }
   ],
   "source": [
    "#Creating a set\n",
    "s1={1,2,3,4,5,1,6,}\n",
    "s1"
   ]
  },
  {
   "cell_type": "code",
   "execution_count": 42,
   "id": "c0e98a9e-7465-4ea3-83cf-509d0c9d2170",
   "metadata": {},
   "outputs": [
    {
     "data": {
      "text/plain": [
       "set"
      ]
     },
     "execution_count": 42,
     "metadata": {},
     "output_type": "execute_result"
    }
   ],
   "source": [
    "#Checking the type\n",
    "type(s1)"
   ]
  },
  {
   "cell_type": "code",
   "execution_count": 43,
   "id": "ed1c7166-3ea3-48c8-affd-dfc42650a7d4",
   "metadata": {},
   "outputs": [
    {
     "data": {
      "text/plain": [
       "{1, 2, 4, 5, 6, 7, 8, 9}"
      ]
     },
     "execution_count": 43,
     "metadata": {},
     "output_type": "execute_result"
    }
   ],
   "source": [
    "#Another way to create set\n",
    "s2=set([1,2,6,7,8,9,5,4,5,2,1,6])\n",
    "s2"
   ]
  },
  {
   "cell_type": "code",
   "execution_count": 45,
   "id": "796ab6ca-1f3f-416e-b9de-fc1ff94cd1ac",
   "metadata": {},
   "outputs": [],
   "source": [
    "#Adding an element\n",
    "s1.add(9)"
   ]
  },
  {
   "cell_type": "code",
   "execution_count": 46,
   "id": "7380e418-4b40-439d-bc84-b9efec36699b",
   "metadata": {},
   "outputs": [
    {
     "data": {
      "text/plain": [
       "{1, 2, 3, 4, 5, 6, 9}"
      ]
     },
     "execution_count": 46,
     "metadata": {},
     "output_type": "execute_result"
    }
   ],
   "source": [
    "s1"
   ]
  },
  {
   "cell_type": "code",
   "execution_count": 47,
   "id": "7cd46700-8ab3-4df8-8952-ffce9ab2b2c4",
   "metadata": {},
   "outputs": [],
   "source": [
    "#Removing an element\n",
    "s1.remove(2)"
   ]
  },
  {
   "cell_type": "code",
   "execution_count": 48,
   "id": "f39468f0-2057-4e32-a85b-029ca3d3ba33",
   "metadata": {},
   "outputs": [
    {
     "data": {
      "text/plain": [
       "{1, 3, 4, 5, 6, 9}"
      ]
     },
     "execution_count": 48,
     "metadata": {},
     "output_type": "execute_result"
    }
   ],
   "source": [
    "s1"
   ]
  },
  {
   "cell_type": "code",
   "execution_count": 49,
   "id": "bf603796-f93a-423a-8759-3cb9ca018d3e",
   "metadata": {},
   "outputs": [
    {
     "data": {
      "text/plain": [
       "set()"
      ]
     },
     "execution_count": 49,
     "metadata": {},
     "output_type": "execute_result"
    }
   ],
   "source": [
    "#Emptying set\n",
    "s1.clear()\n",
    "s1"
   ]
  },
  {
   "cell_type": "code",
   "execution_count": 50,
   "id": "ab22f521-7773-466c-b5d8-20744236c166",
   "metadata": {},
   "outputs": [
    {
     "data": {
      "text/plain": [
       "8"
      ]
     },
     "execution_count": 50,
     "metadata": {},
     "output_type": "execute_result"
    }
   ],
   "source": [
    "#Length of a set\n",
    "len(s2)"
   ]
  },
  {
   "cell_type": "code",
   "execution_count": 57,
   "id": "7a9c922b-3ce1-443a-a0a5-a4a216b33b21",
   "metadata": {},
   "outputs": [
    {
     "data": {
      "text/plain": [
       "{0, 1, 2, 3, 4, 5, 6, 7, 8, 9, 11, 13}"
      ]
     },
     "execution_count": 57,
     "metadata": {},
     "output_type": "execute_result"
    }
   ],
   "source": [
    "#Union Operation (All the common elements in both sets)\n",
    "s3={1,1,2,3,5,4,5,6,7,8,9,0}\n",
    "s4={1,3,5,7,11,13}\n",
    "s3|s4 #or s3.union(s4)"
   ]
  },
  {
   "cell_type": "code",
   "execution_count": 62,
   "id": "6b26a945-b70e-40ec-9b6c-34c9eb5e9331",
   "metadata": {},
   "outputs": [
    {
     "data": {
      "text/plain": [
       "{1, 3, 5, 7}"
      ]
     },
     "execution_count": 62,
     "metadata": {},
     "output_type": "execute_result"
    }
   ],
   "source": [
    "#Intersection Operation (Displays only the common elements)\n",
    "s3&s4 #or s3.intersection(s4)"
   ]
  },
  {
   "cell_type": "code",
   "execution_count": 63,
   "id": "c339e6e0-1d8f-4cdf-95b1-2d36f5b5667e",
   "metadata": {},
   "outputs": [
    {
     "data": {
      "text/plain": [
       "{0, 2, 4, 6, 8, 9}"
      ]
     },
     "execution_count": 63,
     "metadata": {},
     "output_type": "execute_result"
    }
   ],
   "source": [
    "#Difference Operation\n",
    "s3-s4"
   ]
  },
  {
   "cell_type": "code",
   "execution_count": 61,
   "id": "eeda06ac-fb68-4230-ba20-a2a975ad8330",
   "metadata": {},
   "outputs": [
    {
     "data": {
      "text/plain": [
       "{11, 13}"
      ]
     },
     "execution_count": 61,
     "metadata": {},
     "output_type": "execute_result"
    }
   ],
   "source": [
    "s4-s3"
   ]
  },
  {
   "cell_type": "code",
   "execution_count": null,
   "id": "3183a253-b474-4001-b07b-2b8b4e7d793d",
   "metadata": {},
   "outputs": [],
   "source": []
  }
 ],
 "metadata": {
  "kernelspec": {
   "display_name": "Python 3 (ipykernel)",
   "language": "python",
   "name": "python3"
  },
  "language_info": {
   "codemirror_mode": {
    "name": "ipython",
    "version": 3
   },
   "file_extension": ".py",
   "mimetype": "text/x-python",
   "name": "python",
   "nbconvert_exporter": "python",
   "pygments_lexer": "ipython3",
   "version": "3.13.5"
  }
 },
 "nbformat": 4,
 "nbformat_minor": 5
}
