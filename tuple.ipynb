{
 "cells": [
  {
   "cell_type": "code",
   "execution_count": 1,
   "id": "c0754c45-605f-488a-a42d-3f9ac0d52780",
   "metadata": {},
   "outputs": [],
   "source": [
    " #tuble creation\n",
    "a=(1,2,3,4)"
   ]
  },
  {
   "cell_type": "code",
   "execution_count": 2,
   "id": "4a8477cf-27d2-496f-bc16-08f043165c3d",
   "metadata": {},
   "outputs": [
    {
     "data": {
      "text/plain": [
       "(1, 2, 3, 4)"
      ]
     },
     "execution_count": 2,
     "metadata": {},
     "output_type": "execute_result"
    }
   ],
   "source": [
    "a"
   ]
  },
  {
   "cell_type": "code",
   "execution_count": 3,
   "id": "d3074792-831e-4f68-af66-3740028aeac5",
   "metadata": {},
   "outputs": [
    {
     "name": "stdout",
     "output_type": "stream",
     "text": [
      "<class 'tuple'>\n"
     ]
    }
   ],
   "source": [
    "print(type(a))"
   ]
  },
  {
   "cell_type": "code",
   "execution_count": 7,
   "id": "7e6eb9ae-ea60-4aa5-8abc-64877451597f",
   "metadata": {},
   "outputs": [],
   "source": [
    "#string tuple creation\n",
    "b=(\"cucumber\",\"banana\")"
   ]
  },
  {
   "cell_type": "code",
   "execution_count": 8,
   "id": "78f82a03-3fb8-4d92-8467-59a06303b326",
   "metadata": {},
   "outputs": [
    {
     "data": {
      "text/plain": [
       "('cucumber', 'banana')"
      ]
     },
     "execution_count": 8,
     "metadata": {},
     "output_type": "execute_result"
    }
   ],
   "source": [
    "b"
   ]
  },
  {
   "cell_type": "code",
   "execution_count": 9,
   "id": "24f8ad9f-24dd-435f-a2ec-965e97f76096",
   "metadata": {},
   "outputs": [
    {
     "name": "stdout",
     "output_type": "stream",
     "text": [
      "<class 'tuple'>\n"
     ]
    }
   ],
   "source": [
    "print(type(b))"
   ]
  },
  {
   "cell_type": "code",
   "execution_count": 15,
   "id": "1cec70a6-9288-49de-a780-ebcbf4429114",
   "metadata": {},
   "outputs": [],
   "source": [
    "# checking diffrent types of data\n",
    "c=(1,2,3,4,3.4,4.55,78.6,\"fadi\",\"dey\",True,False,False)"
   ]
  },
  {
   "cell_type": "code",
   "execution_count": 16,
   "id": "d0ed93f1-3a2e-43ea-9ebf-becd4216c083",
   "metadata": {},
   "outputs": [
    {
     "data": {
      "text/plain": [
       "(1, 2, 3, 4, 3.4, 4.55, 78.6, 'fadi', 'dey', True, False, False)"
      ]
     },
     "execution_count": 16,
     "metadata": {},
     "output_type": "execute_result"
    }
   ],
   "source": [
    "c"
   ]
  },
  {
   "cell_type": "code",
   "execution_count": 18,
   "id": "6b43b1e8-3c06-4011-8e49-9eee8866d8d3",
   "metadata": {},
   "outputs": [
    {
     "name": "stdout",
     "output_type": "stream",
     "text": [
      "<class 'tuple'>\n"
     ]
    }
   ],
   "source": [
    "print(type(c))\n",
    "\n"
   ]
  },
  {
   "cell_type": "code",
   "execution_count": 19,
   "id": "423e74d3-ec80-411e-a072-9150379c54f5",
   "metadata": {},
   "outputs": [],
   "source": [
    "#checking without parandises \n",
    "d=1,2,3,"
   ]
  },
  {
   "cell_type": "code",
   "execution_count": 20,
   "id": "63c6f50c-e678-4702-b5f8-060466324759",
   "metadata": {},
   "outputs": [
    {
     "data": {
      "text/plain": [
       "(1, 2, 3)"
      ]
     },
     "execution_count": 20,
     "metadata": {},
     "output_type": "execute_result"
    }
   ],
   "source": [
    "d"
   ]
  },
  {
   "cell_type": "code",
   "execution_count": 21,
   "id": "cfead87a-0710-4a31-bbb4-1667fb37cf4e",
   "metadata": {},
   "outputs": [
    {
     "name": "stdout",
     "output_type": "stream",
     "text": [
      "<class 'tuple'>\n"
     ]
    }
   ],
   "source": [
    "print(type(d))"
   ]
  },
  {
   "cell_type": "code",
   "execution_count": 26,
   "id": "83e79842-07e8-46ab-bb81-1eadf59b17cb",
   "metadata": {},
   "outputs": [],
   "source": [
    "#marging a and b\n",
    "t=a+b"
   ]
  },
  {
   "cell_type": "code",
   "execution_count": 27,
   "id": "c3105f76-8245-47b3-b7bc-ec2537b82df6",
   "metadata": {},
   "outputs": [
    {
     "data": {
      "text/plain": [
       "(1, 2, 3, 4, 'cucumber', 'banana')"
      ]
     },
     "execution_count": 27,
     "metadata": {},
     "output_type": "execute_result"
    }
   ],
   "source": [
    "t"
   ]
  },
  {
   "cell_type": "code",
   "execution_count": 28,
   "id": "2101a154-0fc6-4097-8c71-f22ff7449fbf",
   "metadata": {},
   "outputs": [],
   "source": [
    "#multiplying tuple\n",
    "t1=d*3"
   ]
  },
  {
   "cell_type": "code",
   "execution_count": 29,
   "id": "b2151a3e-3416-4b5d-a517-5197cd162619",
   "metadata": {},
   "outputs": [
    {
     "data": {
      "text/plain": [
       "(1, 2, 3, 1, 2, 3, 1, 2, 3)"
      ]
     },
     "execution_count": 29,
     "metadata": {},
     "output_type": "execute_result"
    }
   ],
   "source": [
    "t1"
   ]
  },
  {
   "cell_type": "code",
   "execution_count": 30,
   "id": "a33ab833-5f64-4711-87a5-8747dda56ca0",
   "metadata": {},
   "outputs": [
    {
     "name": "stdout",
     "output_type": "stream",
     "text": [
      "<class 'tuple'>\n"
     ]
    }
   ],
   "source": [
    "print(type(t1))"
   ]
  },
  {
   "cell_type": "code",
   "execution_count": 31,
   "id": "256ffe5c-0dcd-4760-9049-65e46b9842a6",
   "metadata": {},
   "outputs": [],
   "source": [
    "creating tuple in another way\n",
    "t2=tuple('hello')"
   ]
  },
  {
   "cell_type": "code",
   "execution_count": 32,
   "id": "f6740b17-2c0f-4a27-b8cb-c43c3f82e449",
   "metadata": {},
   "outputs": [
    {
     "data": {
      "text/plain": [
       "('h', 'e', 'l', 'l', 'o')"
      ]
     },
     "execution_count": 32,
     "metadata": {},
     "output_type": "execute_result"
    }
   ],
   "source": [
    "t2"
   ]
  },
  {
   "cell_type": "code",
   "execution_count": 33,
   "id": "7c4d2706-f327-40d1-83a2-2426e49051b1",
   "metadata": {},
   "outputs": [
    {
     "name": "stdout",
     "output_type": "stream",
     "text": [
      "<class 'tuple'>\n"
     ]
    }
   ],
   "source": [
    "print(type(t2))"
   ]
  },
  {
   "cell_type": "code",
   "execution_count": 34,
   "id": "219b54c6-107e-4839-9bd4-4f8ebd11e25c",
   "metadata": {},
   "outputs": [
    {
     "data": {
      "text/plain": [
       "'e'"
      ]
     },
     "execution_count": 34,
     "metadata": {},
     "output_type": "execute_result"
    }
   ],
   "source": [
    "t2[1]"
   ]
  },
  {
   "cell_type": "code",
   "execution_count": 37,
   "id": "b29fa71e-b17a-4ffa-90db-796ad81cc24f",
   "metadata": {},
   "outputs": [
    {
     "data": {
      "text/plain": [
       "('o', 'l', 'l', 'e', 'h')"
      ]
     },
     "execution_count": 37,
     "metadata": {},
     "output_type": "execute_result"
    }
   ],
   "source": [
    "#reverse tuple\n",
    "t2[::-1]"
   ]
  },
  {
   "cell_type": "code",
   "execution_count": 39,
   "id": "a917f4e7-0fbd-43e6-bafa-87f3eaae30eb",
   "metadata": {},
   "outputs": [
    {
     "ename": "ValueError",
     "evalue": "too many values to unpack (expected 4)",
     "output_type": "error",
     "traceback": [
      "\u001b[1;31m---------------------------------------------------------------------------\u001b[0m",
      "\u001b[1;31mValueError\u001b[0m                                Traceback (most recent call last)",
      "Cell \u001b[1;32mIn[39], line 1\u001b[0m\n\u001b[1;32m----> 1\u001b[0m a,b,c,d\u001b[38;5;241m=\u001b[39mt2\n",
      "\u001b[1;31mValueError\u001b[0m: too many values to unpack (expected 4)"
     ]
    }
   ],
   "source": [
    "#too many value unpack\n",
    "a,b,c,d=t2"
   ]
  },
  {
   "cell_type": "code",
   "execution_count": 40,
   "id": "b2180573-8c39-4139-b3fb-7aaef59f6b59",
   "metadata": {},
   "outputs": [],
   "source": [
    "#upacking tuple\n",
    "a,b,c,d,e=t2"
   ]
  },
  {
   "cell_type": "code",
   "execution_count": 42,
   "id": "9fade87a-aad8-43f5-9950-a1af1bae1d89",
   "metadata": {},
   "outputs": [
    {
     "data": {
      "text/plain": [
       "'h'"
      ]
     },
     "execution_count": 42,
     "metadata": {},
     "output_type": "execute_result"
    }
   ],
   "source": [
    "a"
   ]
  },
  {
   "cell_type": "code",
   "execution_count": 43,
   "id": "62c71922-5d90-4eed-82d8-364398801e05",
   "metadata": {},
   "outputs": [
    {
     "data": {
      "text/plain": [
       "'e'"
      ]
     },
     "execution_count": 43,
     "metadata": {},
     "output_type": "execute_result"
    }
   ],
   "source": [
    "b"
   ]
  },
  {
   "cell_type": "code",
   "execution_count": 44,
   "id": "89c705d5-01da-486a-b43e-cd92773d65ea",
   "metadata": {},
   "outputs": [
    {
     "data": {
      "text/plain": [
       "'l'"
      ]
     },
     "execution_count": 44,
     "metadata": {},
     "output_type": "execute_result"
    }
   ],
   "source": [
    "c"
   ]
  },
  {
   "cell_type": "code",
   "execution_count": 45,
   "id": "8c069e84-2f85-4505-9ab2-c354686608b8",
   "metadata": {},
   "outputs": [
    {
     "data": {
      "text/plain": [
       "'l'"
      ]
     },
     "execution_count": 45,
     "metadata": {},
     "output_type": "execute_result"
    }
   ],
   "source": [
    "d"
   ]
  },
  {
   "cell_type": "code",
   "execution_count": 46,
   "id": "604b9970-8962-437d-8457-cfdbd6870cab",
   "metadata": {},
   "outputs": [
    {
     "data": {
      "text/plain": [
       "'o'"
      ]
     },
     "execution_count": 46,
     "metadata": {},
     "output_type": "execute_result"
    }
   ],
   "source": [
    "e"
   ]
  },
  {
   "cell_type": "code",
   "execution_count": 47,
   "id": "9ac6d2a5-8008-47d4-b9d6-75f0b4642b00",
   "metadata": {},
   "outputs": [
    {
     "ename": "ValueError",
     "evalue": "not enough values to unpack (expected 6, got 5)",
     "output_type": "error",
     "traceback": [
      "\u001b[1;31m---------------------------------------------------------------------------\u001b[0m",
      "\u001b[1;31mValueError\u001b[0m                                Traceback (most recent call last)",
      "Cell \u001b[1;32mIn[47], line 1\u001b[0m\n\u001b[1;32m----> 1\u001b[0m a,b,c,d,e,f\u001b[38;5;241m=\u001b[39mt2\n",
      "\u001b[1;31mValueError\u001b[0m: not enough values to unpack (expected 6, got 5)"
     ]
    }
   ],
   "source": [
    "#not enough to unpack\n",
    "a,b,c,d,e,f=t2"
   ]
  },
  {
   "cell_type": "code",
   "execution_count": 49,
   "id": "8ed4c086-16bc-471b-9656-bcec17f147fd",
   "metadata": {},
   "outputs": [
    {
     "data": {
      "text/plain": [
       "5"
      ]
     },
     "execution_count": 49,
     "metadata": {},
     "output_type": "execute_result"
    }
   ],
   "source": [
    "#length of tuple\n",
    "len(t2)"
   ]
  },
  {
   "cell_type": "code",
   "execution_count": 50,
   "id": "bedb1ccb-ce76-43fd-9109-652fe9ab5da8",
   "metadata": {},
   "outputs": [
    {
     "ename": "TypeError",
     "evalue": "'tuple' object doesn't support item deletion",
     "output_type": "error",
     "traceback": [
      "\u001b[1;31m---------------------------------------------------------------------------\u001b[0m",
      "\u001b[1;31mTypeError\u001b[0m                                 Traceback (most recent call last)",
      "Cell \u001b[1;32mIn[50], line 1\u001b[0m\n\u001b[1;32m----> 1\u001b[0m \u001b[38;5;28;01mdel\u001b[39;00m t2[\u001b[38;5;241m2\u001b[39m]\n",
      "\u001b[1;31mTypeError\u001b[0m: 'tuple' object doesn't support item deletion"
     ]
    }
   ],
   "source": [
    "#item deletion not allowed\n",
    "del t2[2]"
   ]
  },
  {
   "cell_type": "code",
   "execution_count": 51,
   "id": "3347bcd6-3173-452f-b86b-cd24fdd0fe3b",
   "metadata": {},
   "outputs": [],
   "source": [
    "#deleting complete tuple\n",
    "del t2"
   ]
  },
  {
   "cell_type": "code",
   "execution_count": 52,
   "id": "cb77fc20-9d45-43c7-b6a6-26c689d0a745",
   "metadata": {},
   "outputs": [
    {
     "ename": "NameError",
     "evalue": "name 't2' is not defined",
     "output_type": "error",
     "traceback": [
      "\u001b[1;31m---------------------------------------------------------------------------\u001b[0m",
      "\u001b[1;31mNameError\u001b[0m                                 Traceback (most recent call last)",
      "Cell \u001b[1;32mIn[52], line 1\u001b[0m\n\u001b[1;32m----> 1\u001b[0m t2\n",
      "\u001b[1;31mNameError\u001b[0m: name 't2' is not defined"
     ]
    }
   ],
   "source": [
    "t2"
   ]
  },
  {
   "cell_type": "code",
   "execution_count": null,
   "id": "3a2141ef-1d4b-4ef9-8a7d-9c4856bdccef",
   "metadata": {},
   "outputs": [],
   "source": []
  }
 ],
 "metadata": {
  "kernelspec": {
   "display_name": "Python [conda env:base] *",
   "language": "python",
   "name": "conda-base-py"
  },
  "language_info": {
   "codemirror_mode": {
    "name": "ipython",
    "version": 3
   },
   "file_extension": ".py",
   "mimetype": "text/x-python",
   "name": "python",
   "nbconvert_exporter": "python",
   "pygments_lexer": "ipython3",
   "version": "3.13.5"
  }
 },
 "nbformat": 4,
 "nbformat_minor": 5
}
