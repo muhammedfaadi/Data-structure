{
 "cells": [
  {
   "cell_type": "code",
   "execution_count": 2,
   "id": "a78c7500-8633-4eda-b4cd-35e6355d390b",
   "metadata": {},
   "outputs": [
    {
     "name": "stdout",
     "output_type": "stream",
     "text": [
      "hello word\n"
     ]
    }
   ],
   "source": [
    "print (\"hello word\")"
   ]
  },
  {
   "cell_type": "code",
   "execution_count": 4,
   "id": "75187e49-83f6-4e33-978b-3b68ab648899",
   "metadata": {},
   "outputs": [
    {
     "data": {
      "text/plain": [
       "[1, 2, 3, 4]"
      ]
     },
     "execution_count": 4,
     "metadata": {},
     "output_type": "execute_result"
    }
   ],
   "source": [
    "a=[1,2,3,4]\n",
    "a"
   ]
  },
  {
   "cell_type": "code",
   "execution_count": 5,
   "id": "9e61b857-6a33-44cf-a8ec-870520a9a28d",
   "metadata": {},
   "outputs": [
    {
     "name": "stdout",
     "output_type": "stream",
     "text": [
      "<class 'list'>\n"
     ]
    }
   ],
   "source": [
    "print(type(a))"
   ]
  },
  {
   "cell_type": "code",
   "execution_count": 6,
   "id": "a656eb02-8682-4b44-8710-1a0dfff97864",
   "metadata": {},
   "outputs": [],
   "source": [
    "b=[1,3.24,\"muha\",True]"
   ]
  },
  {
   "cell_type": "code",
   "execution_count": 7,
   "id": "550fce9b-38cb-4c7f-923a-11c9e6ef22f9",
   "metadata": {},
   "outputs": [
    {
     "data": {
      "text/plain": [
       "[1, 3.24, 'muha', True]"
      ]
     },
     "execution_count": 7,
     "metadata": {},
     "output_type": "execute_result"
    }
   ],
   "source": [
    "b"
   ]
  },
  {
   "cell_type": "code",
   "execution_count": 8,
   "id": "325826ca-3a1d-4ac7-b2a5-6711e043a9b5",
   "metadata": {},
   "outputs": [
    {
     "name": "stdout",
     "output_type": "stream",
     "text": [
      "<class 'list'>\n"
     ]
    }
   ],
   "source": [
    "print(type(b))"
   ]
  },
  {
   "cell_type": "code",
   "execution_count": 11,
   "id": "b003c953-b42e-4073-b376-7e51e1e496ba",
   "metadata": {},
   "outputs": [],
   "source": [
    "c=[\"fadi\",\"jin\",\"aro\",\"jitha\"]"
   ]
  },
  {
   "cell_type": "code",
   "execution_count": 12,
   "id": "14d11b00-b23b-419b-9eb0-7db66a878728",
   "metadata": {},
   "outputs": [
    {
     "data": {
      "text/plain": [
       "['fadi', 'jin', 'aro', 'jitha']"
      ]
     },
     "execution_count": 12,
     "metadata": {},
     "output_type": "execute_result"
    }
   ],
   "source": [
    "c"
   ]
  },
  {
   "cell_type": "code",
   "execution_count": 13,
   "id": "cdb5a617-75e1-4d62-8c58-389a72bc0f92",
   "metadata": {},
   "outputs": [],
   "source": [
    "d=[3.24,35.2,67.5,4.5]"
   ]
  },
  {
   "cell_type": "code",
   "execution_count": 14,
   "id": "3c5b0a9a-3acc-459f-ae07-1d7c1fcd7782",
   "metadata": {},
   "outputs": [
    {
     "data": {
      "text/plain": [
       "[3.24, 35.2, 67.5, 4.5]"
      ]
     },
     "execution_count": 14,
     "metadata": {},
     "output_type": "execute_result"
    }
   ],
   "source": [
    "d"
   ]
  },
  {
   "cell_type": "code",
   "execution_count": 15,
   "id": "7337c295-edab-4f7c-9c23-72f11617d720",
   "metadata": {},
   "outputs": [],
   "source": [
    "e=[True,False,False,True]\n"
   ]
  },
  {
   "cell_type": "code",
   "execution_count": 16,
   "id": "43f7dec8-093c-49aa-bcb2-1dfa49be794a",
   "metadata": {},
   "outputs": [
    {
     "data": {
      "text/plain": [
       "[True, False, False, True]"
      ]
     },
     "execution_count": 16,
     "metadata": {},
     "output_type": "execute_result"
    }
   ],
   "source": [
    "e"
   ]
  },
  {
   "cell_type": "code",
   "execution_count": 17,
   "id": "a423cbcb-23fb-4ab2-aa1b-a81b5b0c6105",
   "metadata": {},
   "outputs": [
    {
     "name": "stdout",
     "output_type": "stream",
     "text": [
      "<class 'list'>\n"
     ]
    }
   ],
   "source": [
    "print(type(e))"
   ]
  },
  {
   "cell_type": "code",
   "execution_count": 18,
   "id": "004e96e7-ead5-4ec4-bd20-f4e6ba0906bb",
   "metadata": {},
   "outputs": [],
   "source": [
    " #list creation\n",
    "L1=[1,2,3.5,4.67,45.6,\"fadi\",\"jin\",\"aro\",True,False,True,False]"
   ]
  },
  {
   "cell_type": "code",
   "execution_count": 20,
   "id": "2f778bff-e83d-4706-90da-a942fdefb33f",
   "metadata": {},
   "outputs": [
    {
     "data": {
      "text/plain": [
       "[1, 2, 3.5, 4.67, 45.6, 'fadi', 'jin', 'aro', True, False, True, False]"
      ]
     },
     "execution_count": 20,
     "metadata": {},
     "output_type": "execute_result"
    }
   ],
   "source": [
    "L1"
   ]
  },
  {
   "cell_type": "code",
   "execution_count": 21,
   "id": "da2808ca-272f-491f-8d2b-3d719868891c",
   "metadata": {},
   "outputs": [
    {
     "name": "stdout",
     "output_type": "stream",
     "text": [
      "<class 'list'>\n"
     ]
    }
   ],
   "source": [
    "print(type(L1))"
   ]
  },
  {
   "cell_type": "code",
   "execution_count": 22,
   "id": "c3dbbd7f-d358-49ba-8863-7025f2ae31fc",
   "metadata": {},
   "outputs": [
    {
     "data": {
      "text/plain": [
       "12"
      ]
     },
     "execution_count": 22,
     "metadata": {},
     "output_type": "execute_result"
    }
   ],
   "source": [
    "#length of list\n",
    "len(L1)"
   ]
  },
  {
   "cell_type": "code",
   "execution_count": 23,
   "id": "44da818f-7c9f-4a3f-9eca-54bd9c432ce1",
   "metadata": {},
   "outputs": [
    {
     "data": {
      "text/plain": [
       "2"
      ]
     },
     "execution_count": 23,
     "metadata": {},
     "output_type": "execute_result"
    }
   ],
   "source": [
    "L1[1]"
   ]
  },
  {
   "cell_type": "code",
   "execution_count": 27,
   "id": "7e5a21ee-6bac-4995-96bc-154c1ec7c54d",
   "metadata": {},
   "outputs": [
    {
     "data": {
      "text/plain": [
       "1"
      ]
     },
     "execution_count": 27,
     "metadata": {},
     "output_type": "execute_result"
    }
   ],
   "source": [
    "L1[0]"
   ]
  },
  {
   "cell_type": "code",
   "execution_count": 31,
   "id": "64a64783-196e-4238-a34b-a385311d73f4",
   "metadata": {},
   "outputs": [
    {
     "data": {
      "text/plain": [
       "False"
      ]
     },
     "execution_count": 31,
     "metadata": {},
     "output_type": "execute_result"
    }
   ],
   "source": [
    "L1[11]"
   ]
  },
  {
   "cell_type": "code",
   "execution_count": 33,
   "id": "75cd3ecd-a3ad-44ba-b286-3536f30a9211",
   "metadata": {
    "jp-MarkdownHeadingCollapsed": true
   },
   "outputs": [
    {
     "data": {
      "text/plain": [
       "[False, True, False, True, 'aro', 'jin', 'fadi', 45.6, 4.67, 3.5, 2, 1]"
      ]
     },
     "execution_count": 33,
     "metadata": {},
     "output_type": "execute_result"
    }
   ],
   "source": [
    " #revering a string\n",
    "L1[::-1]"
   ]
  },
  {
   "cell_type": "code",
   "execution_count": 35,
   "id": "4b5c2cc5-b420-4f82-b728-2e37347306f6",
   "metadata": {},
   "outputs": [
    {
     "data": {
      "text/plain": [
       "False"
      ]
     },
     "execution_count": 35,
     "metadata": {},
     "output_type": "execute_result"
    }
   ],
   "source": [
    " #last number in list\n",
    "L1[-1]"
   ]
  },
  {
   "cell_type": "code",
   "execution_count": 37,
   "id": "06d8f478-76ba-448a-b2f2-70f9b31b15e9",
   "metadata": {},
   "outputs": [
    {
     "data": {
      "text/plain": [
       "[3.5, 4.67, 45.6, 'fadi']"
      ]
     },
     "execution_count": 37,
     "metadata": {},
     "output_type": "execute_result"
    }
   ],
   "source": [
    "#sublist-indxing\n",
    "L1[2:6]"
   ]
  },
  {
   "cell_type": "code",
   "execution_count": 38,
   "id": "4f42c3d2-d0d6-4258-8372-90cc70ef1294",
   "metadata": {},
   "outputs": [],
   "source": [
    "#Appending\n",
    "L1.append(6)"
   ]
  },
  {
   "cell_type": "code",
   "execution_count": 39,
   "id": "05766e7d-cd0a-43ec-aef2-30d72ee4ab2f",
   "metadata": {},
   "outputs": [
    {
     "data": {
      "text/plain": [
       "[1, 2, 3.5, 4.67, 45.6, 'fadi', 'jin', 'aro', True, False, True, False, 6]"
      ]
     },
     "execution_count": 39,
     "metadata": {},
     "output_type": "execute_result"
    }
   ],
   "source": [
    "L1"
   ]
  },
  {
   "cell_type": "code",
   "execution_count": 40,
   "id": "8ed0f79e-53bc-439c-92d5-3e5c8686d233",
   "metadata": {},
   "outputs": [],
   "source": [
    "#insertion of list\n",
    "L1.insert(0,8)"
   ]
  },
  {
   "cell_type": "code",
   "execution_count": 41,
   "id": "078669eb-87d3-46fe-a6a4-a00882ec5596",
   "metadata": {},
   "outputs": [
    {
     "data": {
      "text/plain": [
       "[8, 1, 2, 3.5, 4.67, 45.6, 'fadi', 'jin', 'aro', True, False, True, False, 6]"
      ]
     },
     "execution_count": 41,
     "metadata": {},
     "output_type": "execute_result"
    }
   ],
   "source": [
    "L1"
   ]
  },
  {
   "cell_type": "code",
   "execution_count": 42,
   "id": "2103b406-eb43-463f-b4ec-f6163aa9195c",
   "metadata": {},
   "outputs": [],
   "source": [
    "#insertion of list\n",
    "L1.insert(5,3)"
   ]
  },
  {
   "cell_type": "code",
   "execution_count": 43,
   "id": "ba76bae3-45f2-43be-90b9-d40251bfa779",
   "metadata": {},
   "outputs": [
    {
     "data": {
      "text/plain": [
       "[8,\n",
       " 1,\n",
       " 2,\n",
       " 3.5,\n",
       " 4.67,\n",
       " 3,\n",
       " 45.6,\n",
       " 'fadi',\n",
       " 'jin',\n",
       " 'aro',\n",
       " True,\n",
       " False,\n",
       " True,\n",
       " False,\n",
       " 6]"
      ]
     },
     "execution_count": 43,
     "metadata": {},
     "output_type": "execute_result"
    }
   ],
   "source": [
    "L1"
   ]
  },
  {
   "cell_type": "code",
   "execution_count": 44,
   "id": "7a49aee8-092c-4b03-9a00-9416aa8b5107",
   "metadata": {},
   "outputs": [
    {
     "name": "stdout",
     "output_type": "stream",
     "text": [
      "<class 'list'>\n"
     ]
    }
   ],
   "source": [
    "print(type(L1))"
   ]
  },
  {
   "cell_type": "code",
   "execution_count": 45,
   "id": "64896f01-5990-4257-8fd2-c17478e2e968",
   "metadata": {},
   "outputs": [],
   "source": [
    "#removing from list\n",
    "L1.remove(6)"
   ]
  },
  {
   "cell_type": "code",
   "execution_count": 46,
   "id": "29156ce9-96a8-4568-a67a-895982f4bddc",
   "metadata": {},
   "outputs": [
    {
     "data": {
      "text/plain": [
       "[8, 1, 2, 3.5, 4.67, 3, 45.6, 'fadi', 'jin', 'aro', True, False, True, False]"
      ]
     },
     "execution_count": 46,
     "metadata": {},
     "output_type": "execute_result"
    }
   ],
   "source": [
    "L1"
   ]
  },
  {
   "cell_type": "code",
   "execution_count": 47,
   "id": "bb931d8c-898f-41ac-a71d-5f38b38b2741",
   "metadata": {},
   "outputs": [],
   "source": [
    "L1.remove(8)"
   ]
  },
  {
   "cell_type": "code",
   "execution_count": 48,
   "id": "fcf49be0-d2c9-4685-9cc1-f5e8277c525d",
   "metadata": {},
   "outputs": [
    {
     "data": {
      "text/plain": [
       "[1, 2, 3.5, 4.67, 3, 45.6, 'fadi', 'jin', 'aro', True, False, True, False]"
      ]
     },
     "execution_count": 48,
     "metadata": {},
     "output_type": "execute_result"
    }
   ],
   "source": [
    "L1"
   ]
  },
  {
   "cell_type": "code",
   "execution_count": 49,
   "id": "c8707fc4-4886-4530-93bd-db3f3ce5d85a",
   "metadata": {},
   "outputs": [],
   "source": [
    "#removing a specfic valuve from list\n",
    "del L1[2]"
   ]
  },
  {
   "cell_type": "code",
   "execution_count": 50,
   "id": "b5ba3e86-8a2b-4002-9bb5-2ad4f182e061",
   "metadata": {},
   "outputs": [
    {
     "data": {
      "text/plain": [
       "[1, 2, 4.67, 3, 45.6, 'fadi', 'jin', 'aro', True, False, True, False]"
      ]
     },
     "execution_count": 50,
     "metadata": {},
     "output_type": "execute_result"
    }
   ],
   "source": [
    "L1"
   ]
  },
  {
   "cell_type": "code",
   "execution_count": null,
   "id": "d5ccdccf-d11c-4f71-8020-4a4512ad673b",
   "metadata": {},
   "outputs": [],
   "source": []
  }
 ],
 "metadata": {
  "kernelspec": {
   "display_name": "Python [conda env:base] *",
   "language": "python",
   "name": "conda-base-py"
  },
  "language_info": {
   "codemirror_mode": {
    "name": "ipython",
    "version": 3
   },
   "file_extension": ".py",
   "mimetype": "text/x-python",
   "name": "python",
   "nbconvert_exporter": "python",
   "pygments_lexer": "ipython3",
   "version": "3.13.5"
  }
 },
 "nbformat": 4,
 "nbformat_minor": 5
}
